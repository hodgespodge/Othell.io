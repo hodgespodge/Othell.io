{
 "cells": [
  {
   "cell_type": "code",
   "execution_count": 4,
   "metadata": {},
   "outputs": [],
   "source": [
    "%load_ext autoreload\n",
    "%autoreload 2"
   ]
  },
  {
   "cell_type": "code",
   "execution_count": 5,
   "metadata": {
    "collapsed": true
   },
   "outputs": [],
   "source": [
    "from AiDuelTest import *\n",
    "from Ai import *"
   ]
  },
  {
   "cell_type": "code",
   "execution_count": 6,
   "metadata": {},
   "outputs": [],
   "source": [
    "white_player = RandomQualityAi()\n",
    "black_player = RandomGreedyAi()\n"
   ]
  },
  {
   "cell_type": "code",
   "execution_count": 7,
   "metadata": {},
   "outputs": [],
   "source": [
    "white_player = QualityAi()\n",
    "black_player = RandomQualityAi()"
   ]
  },
  {
   "cell_type": "code",
   "execution_count": 8,
   "metadata": {},
   "outputs": [
    {
     "name": "stdout",
     "output_type": "stream",
     "text": [
      "R B\nR W\nB c 4\nW c 3\nB d 3\nW c 5\nB b 5\nW d 2\nB"
     ]
    },
    {
     "name": "stdout",
     "output_type": "stream",
     "text": [
      " c 2\nW b 4\nB c 6\nW a 5\nB"
     ]
    },
    {
     "name": "stdout",
     "output_type": "stream",
     "text": [
      " d 6\nW d 7\nB e 3\nW e 2\nB c 7\nW b 3\nB f 5\n"
     ]
    },
    {
     "name": "stdout",
     "output_type": "stream",
     "text": [
      "W b 6\nB d 1\nW e 6\nB d 8\n"
     ]
    },
    {
     "name": "stdout",
     "output_type": "stream",
     "text": [
      "W e 7\nB f 4\nW f 3\nB e 1\nW f 2\nB a 6\n"
     ]
    },
    {
     "name": "stdout",
     "output_type": "stream",
     "text": [
      "W c 8\nB f 8\nW a 4\nB f 6\nW e 8\nB f 7\nW f 1\n"
     ]
    },
    {
     "name": "stdout",
     "output_type": "stream",
     "text": [
      "B a 3\nW c 1\nB g 3\nW g 4\nB h 4\nW g 5\nB h 5\nW g 6\nB"
     ]
    },
    {
     "name": "stdout",
     "output_type": "stream",
     "text": [
      " h 6\nW h 3\nB b 8\nW a 7\nB a 8\nW b 7\nB g 8\nW g 7\nB h 8\nW h 7\nB g 2\nW h 1\nB h 2\nW a 2\nB a 1\nW\nB g 1\nW\nB b 2\nW b 1\nB\n38\n"
     ]
    }
   ],
   "source": [
    "results = run_ai_duel(debug=False,black_player = black_player,white_player =white_player)"
   ]
  },
  {
   "cell_type": "code",
   "execution_count": 9,
   "metadata": {},
   "outputs": [
    {
     "data": {
      "text/plain": [
       "<matplotlib.legend.Legend at 0x10eadc668>"
      ]
     },
     "execution_count": 9,
     "metadata": {},
     "output_type": "execute_result"
    }
   ],
   "source": [
    "import matplotlib.pyplot as plt\n",
    "\n",
    "plt.figure(figsize=(18,10))\n",
    "plt.title(\"Michaelis-Menten: Basic Tau Hybrid Solver\")\n",
    "plt.xlabel(\"Turn\")\n",
    "plt.ylabel(\"Tiles flipped\")\n",
    "\n",
    "plt.plot(results['turn'],results['Black'],'black', label=black_player.name())\n",
    "plt.plot(results['turn'],results['White'],'red', label=white_player.name())\n",
    "\n",
    "\n",
    "plt.plot([0],[11])\n",
    "plt.legend(loc='best')\n"
   ]
  },
  {
   "cell_type": "code",
   "execution_count": 9,
   "metadata": {},
   "outputs": [],
   "source": []
  },
  {
   "cell_type": "code",
   "execution_count": null,
   "metadata": {},
   "outputs": [],
   "source": []
  }
 ],
 "metadata": {
  "kernelspec": {
   "display_name": "Python 2",
   "language": "python",
   "name": "python2"
  },
  "language_info": {
   "codemirror_mode": {
    "name": "ipython",
    "version": 2
   },
   "file_extension": ".py",
   "mimetype": "text/x-python",
   "name": "python",
   "nbconvert_exporter": "python",
   "pygments_lexer": "ipython2",
   "version": "2.7.6"
  }
 },
 "nbformat": 4,
 "nbformat_minor": 0
}
